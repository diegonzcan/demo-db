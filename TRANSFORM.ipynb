{
 "cells": [
  {
   "cell_type": "code",
   "execution_count": 94,
   "metadata": {},
   "outputs": [],
   "source": [
    "### CARGAR LIBRERIAS Y DATAFRAME\n",
    "import pandas as pd\n",
    "import numpy as np\n",
    "\n",
    "df = pd.read_csv('seminat.csv')\n",
    "\n",
    "df['Programa'] = df['Programa'].str.replace('<p>','').str.replace('</p>','')"
   ]
  },
  {
   "cell_type": "code",
   "execution_count": 95,
   "metadata": {},
   "outputs": [],
   "source": [
    "### // CLEAN DURACION UNIVERSIDAD\n",
    "\n",
    "df[['Universidad', 'Duracion']]=df['Duracion/Universidad'].str.split(' / ', expand=True)\n",
    "\n",
    "df.drop(columns='Duracion/Universidad', inplace=True)"
   ]
  },
  {
   "cell_type": "code",
   "execution_count": 96,
   "metadata": {},
   "outputs": [],
   "source": [
    "### // CLEAN TIPO\n",
    "\n",
    "df['Tipo'] = df['Tipo'].str.replace('<h3>','').str.replace('</h3>','')"
   ]
  },
  {
   "cell_type": "code",
   "execution_count": 97,
   "metadata": {},
   "outputs": [],
   "source": [
    "### // LIMPIAR PRECIO\n",
    "df['Precio']=df['Precio'].str.replace('Desde','').str.strip()\n",
    "df.rename(columns={'Precio':'Precio'}, inplace=True)"
   ]
  },
  {
   "attachments": {},
   "cell_type": "markdown",
   "metadata": {},
   "source": [
    "Guardamos el dataframe a un csv para dumpear en sql server"
   ]
  },
  {
   "cell_type": "code",
   "execution_count": 98,
   "metadata": {},
   "outputs": [],
   "source": [
    "df['Precio'] = df['Precio'].replace({'$',''})\n",
    "\n",
    "df['Precio'] = df['Precio'].str[:-1]\n"
   ]
  },
  {
   "cell_type": "code",
   "execution_count": 99,
   "metadata": {},
   "outputs": [],
   "source": [
    "df['Moneda'] = np.where(df['Universidad'].isin(['UNIR', 'UNID', 'UERRE', 'Harmon hall']), 'MXN','EUR')"
   ]
  },
  {
   "cell_type": "code",
   "execution_count": 100,
   "metadata": {},
   "outputs": [],
   "source": [
    "df['Precio'].loc[df['Moneda'] == 'MXN'] = df['Precio'].loc[df['Moneda'] == 'MXN'].str[1:]"
   ]
  },
  {
   "cell_type": "code",
   "execution_count": 105,
   "metadata": {},
   "outputs": [],
   "source": [
    "df['Precio'].loc[df.Precio == 'Gratuito'] = 0"
   ]
  },
  {
   "cell_type": "code",
   "execution_count": 106,
   "metadata": {},
   "outputs": [
    {
     "data": {
      "text/plain": [
       "0       1750.0\n",
       "1       2750.0\n",
       "2       3500.0\n",
       "3       1750.0\n",
       "4       2750.0\n",
       "         ...  \n",
       "3894     720.0\n",
       "3895     720.0\n",
       "3896     720.0\n",
       "3897     720.0\n",
       "3898     720.0\n",
       "Name: Precio, Length: 3899, dtype: float64"
      ]
     },
     "execution_count": 106,
     "metadata": {},
     "output_type": "execute_result"
    }
   ],
   "source": [
    "df['Precio']=df['Precio'].str.strip()\n",
    "df['Precio']=df['Precio'].str.replace(',','')\n",
    "pd.to_numeric(df['Precio'])"
   ]
  },
  {
   "cell_type": "code",
   "execution_count": 107,
   "metadata": {},
   "outputs": [],
   "source": [
    "df = df.fillna(value=0)\n",
    "df.to_csv('seminat_clean.csv', encoding= 'utf-8-sig', index=False)"
   ]
  }
 ],
 "metadata": {
  "kernelspec": {
   "display_name": "Python 3",
   "language": "python",
   "name": "python3"
  },
  "language_info": {
   "codemirror_mode": {
    "name": "ipython",
    "version": 3
   },
   "file_extension": ".py",
   "mimetype": "text/x-python",
   "name": "python",
   "nbconvert_exporter": "python",
   "pygments_lexer": "ipython3",
   "version": "3.10.9 (tags/v3.10.9:1dd9be6, Dec  6 2022, 20:01:21) [MSC v.1934 64 bit (AMD64)]"
  },
  "orig_nbformat": 4,
  "vscode": {
   "interpreter": {
    "hash": "85aece5883f23cf93a903b25fd3f6a5833dab6da9d10cf403dbbc785be5e4181"
   }
  }
 },
 "nbformat": 4,
 "nbformat_minor": 2
}
